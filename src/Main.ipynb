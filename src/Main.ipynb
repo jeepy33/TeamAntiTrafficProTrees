{
 "cells": [
  {
   "cell_type": "code",
   "execution_count": 17,
   "metadata": {},
   "outputs": [
    {
     "data": {
      "text/plain": [
       "neighborhood\n",
       "Allegheny Center       867\n",
       "Allegheny West         386\n",
       "Allentown               84\n",
       "Arlington              107\n",
       "Arlington Heights        5\n",
       "                      ... \n",
       "Upper Lawrenceville    373\n",
       "West End               131\n",
       "West Oakland            78\n",
       "Westwood               258\n",
       "Windgap                117\n",
       "Name: neighborhood, Length: 90, dtype: int64"
      ]
     },
     "execution_count": 17,
     "metadata": {},
     "output_type": "execute_result"
    }
   ],
   "source": [
    "import pandas as pd\n",
    "import numpy as np\n",
    "import ssl\n",
    "\n",
    "\n",
    "ssl._create_default_https_context = ssl._create_unverified_context\n",
    "\n",
    "pgh_tree_data = pd.read_csv(\"https://data.wprdc.org/datastore/dump/1515a93c-73e3-4425-9b35-1cd11b2196da\",\n",
    "                           index_col=\"id\", \n",
    "                           parse_dates=True)\n",
    "\n",
    "\n",
    "pgh_sign_data = pd.read_csv(\"https://data.wprdc.org/datastore/dump/d078a6b5-83a3-4723-a3a9-5371cfe1cc0c\",\n",
    "                           index_col=\"id\", \n",
    "                           parse_dates=True)\n",
    "pgh_play_data = pd.read_csv(\"https://data.wprdc.org/datastore/dump/6af89346-b971-41d5-af09-49cfdb4dfe23\",\n",
    "                           index_col=\"id\", \n",
    "                           parse_dates=True)\n",
    "\n",
    "\n",
    "pgh_tree_data.groupby(\"neighborhood\")[\"neighborhood\"].count()\n"
   ]
  },
  {
   "cell_type": "code",
   "execution_count": null,
   "metadata": {},
   "outputs": [],
   "source": []
  }
 ],
 "metadata": {
  "kernelspec": {
   "display_name": "Python 3",
   "language": "python",
   "name": "python3"
  },
  "language_info": {
   "codemirror_mode": {
    "name": "ipython",
    "version": 3
   },
   "file_extension": ".py",
   "mimetype": "text/x-python",
   "name": "python",
   "nbconvert_exporter": "python",
   "pygments_lexer": "ipython3",
   "version": "3.6.7"
  }
 },
 "nbformat": 4,
 "nbformat_minor": 4
}
